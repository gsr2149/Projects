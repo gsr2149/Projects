{
 "cells": [
  {
   "cell_type": "markdown",
   "id": "7b660fca",
   "metadata": {},
   "source": [
    "# Project 1: A prime or not a prime"
   ]
  },
  {
   "cell_type": "markdown",
   "id": "9aecb793",
   "metadata": {},
   "source": [
    "## Introduction"
   ]
  },
  {
   "cell_type": "markdown",
   "id": "f9515e0f",
   "metadata": {},
   "source": [
    "A prime number is an integer greater than $1$ which is divisible only by itself and $1$. The first $5$ prime numbers are $2, 3, 5, 7$, and $11$. The study of prime numbers dates back to ancient Greece and are still an important mathematical concept to this day. \n",
    "\n",
    "A congruence occurs when, if $n$ is a positive integer, and the integers $a$ and $b$ are congruent modulo $n$ if the remainder from dividing $a$ by $n$ is the same as the remainder from dividing $b$ by $n$. Congruences and prime numbers are related to one another through Fermat's little theorem. \n",
    "\n",
    "Fermat, a  French mathematician, came up with a little theoreom. He stated that if $n$ is a prime number then \n",
    "$$\n",
    "    a^n \\equiv a (mod\\: n)\n",
    "$$\n",
    "for all integers $0 \\le a < n$. However, this formula does not hold if $n$ is not a prime number. There exists numbers $n\\ge2$ such that: \n",
    "\n",
    "- $n$ is not a prime\n",
    "- the formula $a^n \\equiv a (mod\\:n)$ holds for all $0 \\le a < n$\n",
    "\n",
    "The main purpose of this report is to identify these false primes (excluding $1$), break down the composition of these numbers and determine what properties define these false primes. "
   ]
  },
  {
   "cell_type": "markdown",
   "id": "2518a596",
   "metadata": {},
   "source": [
    "## Part 1: Write a Python script to find the first 20 false primes."
   ]
  },
  {
   "cell_type": "markdown",
   "id": "a8c3d736",
   "metadata": {},
   "source": [
    "In order to find our first $20$ false primes, first we need to define a prime number. The most efficient way to find a prime number is through using the square root function in Python, known as `sqrt`. In order to begin use the `sqrt` function, we begin by importing `sqrt` from a module called `math`. A module, as defined by Python's official documentation, is \"Python's way to put definitions in a file and use them in a script or in an interactive instance of the interpreter. Definitions from a module can be imported into other modules or into the main module\". `from module_name import name:` imports specific names directly into this current workbook. \n",
    "\n",
    "Using Python, we can define our own functions that we can use at any point. Below, I have defined the `is_prime(n)` function. To find if a number is prime, you can calculate the square root and then check if the number is divisible by any number from $2$ up to and including the square root of that number. We only need to check up to the `sqrt` of $n$ because any factor larger than the square root of $n$ would have a factor smaller than  `sqrt` $n$ that corresponds to it. Using an `if` statement, if our number divides by any number within the designated range, the function will `return False`. Otherwise, it will `return True`"
   ]
  },
  {
   "cell_type": "code",
   "execution_count": 1,
   "id": "42531167",
   "metadata": {},
   "outputs": [],
   "source": [
    "from math import sqrt "
   ]
  },
  {
   "cell_type": "code",
   "execution_count": 2,
   "id": "d5652c96",
   "metadata": {},
   "outputs": [],
   "source": [
    "def is_prime(n):\n",
    "    for d in range(2,int(sqrt(n))+1): #Try every number starting from 2 to the square root of n\n",
    "        if n % d == 0: #This is checking if d divides n\n",
    "            return False\n",
    "    return True"
   ]
  },
  {
   "cell_type": "code",
   "execution_count": 3,
   "id": "a633acba",
   "metadata": {},
   "outputs": [
    {
     "data": {
      "text/plain": [
       "False"
      ]
     },
     "execution_count": 3,
     "metadata": {},
     "output_type": "execute_result"
    }
   ],
   "source": [
    "is_prime(4) #Important to run checks to make sure code runs as you wish"
   ]
  },
  {
   "cell_type": "code",
   "execution_count": 4,
   "id": "46298d75",
   "metadata": {},
   "outputs": [
    {
     "data": {
      "text/plain": [
       "True"
      ]
     },
     "execution_count": 4,
     "metadata": {},
     "output_type": "execute_result"
    }
   ],
   "source": [
    "is_prime(7)"
   ]
  },
  {
   "cell_type": "markdown",
   "id": "9edb49d2",
   "metadata": {},
   "source": [
    "Recall in the introduction that for a number to be prime-like it needs to satisfy the following conditions: \n",
    "- $n$ is not a prime\n",
    "- the formula $a^n \\equiv a (mod n)$ holds for all $0 \\le a < n$\n",
    "\n",
    "I created a function called `def is_prime_like(n)` to determine which numbers are prime-like in nature. If $(a^n) \\% n = a\\% n$, then our number is prime-like. Using the `pow()` function, which uses modular arithmetic to compute the power and the remainder at the same time, we can generate the same result as $a^n \\equiv a (mod n)$ in a much more efficient manner. \n",
    "\n",
    "Using the Boolean expression `not`, I set up an `if` statement to invert the expression to return the condition `False` so if any of the numbers inputted meet the criteria, the condition `True` is returned"
   ]
  },
  {
   "cell_type": "code",
   "execution_count": 5,
   "id": "0aeec28b",
   "metadata": {},
   "outputs": [],
   "source": [
    "def is_prime_like(n):\n",
    "    if n < 2: #any number less than 2 does not fit our criteria\n",
    "        return False\n",
    "    for a in range(n):\n",
    "        if not pow(a, n, n) == a % n: #this is our primary criteria that checks (a**n)%n = a%n\n",
    "            return False\n",
    "    return True # True is outputted if the specifications are reached"
   ]
  },
  {
   "cell_type": "code",
   "execution_count": 6,
   "id": "f13ebc18",
   "metadata": {},
   "outputs": [
    {
     "data": {
      "text/plain": [
       "True"
      ]
     },
     "execution_count": 6,
     "metadata": {},
     "output_type": "execute_result"
    }
   ],
   "source": [
    "is_prime_like(5) #Another check"
   ]
  },
  {
   "cell_type": "code",
   "execution_count": 7,
   "id": "0336aa2b",
   "metadata": {},
   "outputs": [
    {
     "data": {
      "text/plain": [
       "False"
      ]
     },
     "execution_count": 7,
     "metadata": {},
     "output_type": "execute_result"
    }
   ],
   "source": [
    "is_prime_like(1)"
   ]
  },
  {
   "cell_type": "markdown",
   "id": "d53c14a1",
   "metadata": {},
   "source": [
    "Now we can begin defining our `first_false_primes` function. The input is `m`, an aribitrary assignment, that will be the number given to the function to determine how many false primes we want. A false prime is a number that is **not** prime (`not is_prime(n)`) but behaves like a prime (`is_prime_like`).\n",
    "\n",
    "`false_primes = []` will generate an empty list to store our false primes. A `while` loop executes a set of statements as long as our condition is true. Here, the loop will keep running until Python finds `m` amounts of false primes. This way we can change the value for `m` whenever we want and that value is dynamic. Once the loop checks the number to see if it is **not** prime but prime-like, `false_primes.append` makes sure our false prime gets added into our list. \n",
    "\n",
    "`n = n + 1` makes sure our number increments by one in order to move on to the next. For example, if we start with $2$, it will check $3$ next. Finally, once we've found enough false primes, it will output a list of `m` amounts of false primes."
   ]
  },
  {
   "cell_type": "code",
   "execution_count": 8,
   "id": "e1235bd1",
   "metadata": {},
   "outputs": [],
   "source": [
    "def first_false_primes(m): #here m is the input\n",
    "    false_primes = []\n",
    "    n = 2 #2 is our starting point\n",
    "    print('Here is a list of the first {} false primes:'. format(m)) #Stylistic choice to display the # of primes we want\n",
    "    \n",
    "    #Run until we find \"m\" amounts of false primes\n",
    "    while len(false_primes) < m:\n",
    "        \n",
    "        # Checks if the current number \"n\" is not a prime but is prime-like\n",
    "        if not is_prime(n) and is_prime_like(n):\n",
    "            false_primes.append(n)\n",
    "        n = n + 1\n",
    "    return false_primes\n"
   ]
  },
  {
   "cell_type": "code",
   "execution_count": 9,
   "id": "e2cb230e",
   "metadata": {
    "scrolled": false
   },
   "outputs": [
    {
     "name": "stdout",
     "output_type": "stream",
     "text": [
      "Here is a list of the first 20 false primes:\n"
     ]
    },
    {
     "data": {
      "text/plain": [
       "[561,\n",
       " 1105,\n",
       " 1729,\n",
       " 2465,\n",
       " 2821,\n",
       " 6601,\n",
       " 8911,\n",
       " 10585,\n",
       " 15841,\n",
       " 29341,\n",
       " 41041,\n",
       " 46657,\n",
       " 52633,\n",
       " 62745,\n",
       " 63973,\n",
       " 75361,\n",
       " 101101,\n",
       " 115921,\n",
       " 126217,\n",
       " 162401]"
      ]
     },
     "execution_count": 9,
     "metadata": {},
     "output_type": "execute_result"
    }
   ],
   "source": [
    "first_false_primes(20) #How many false primes we require"
   ]
  },
  {
   "cell_type": "markdown",
   "id": "d74db6a2",
   "metadata": {},
   "source": [
    "## Part 2: Compute the primary decomposition of each false prime you found."
   ]
  },
  {
   "cell_type": "markdown",
   "id": "6a9dc70e",
   "metadata": {},
   "source": [
    "In part $2$, our goal is to essentially \"break down\" our false primes to their factors (what prime numbers multiply together to make our false primes?) We want to compute their primary decomposition. \n",
    "\n",
    "We begin by defining a `primary_decomposition` function. Again we can use a `for` loop to go through all the numbers $d$ from $2$ up to `sqrt` n. The `while` loop keeps dividing $n$ by $d$ as long as $d$ is a factor $n$. If $d$ divides $n$ evenly, then $d$ is a prime factor of $n$ and is placed in the `factors` list. Then using integer division, the process reduced $n$ to a smaller life and then the process continues until $n$ gets to $1$. Therefore, if $n > 1$ it will be added to the list, then our factors will be return. "
   ]
  },
  {
   "cell_type": "code",
   "execution_count": 10,
   "id": "00041887",
   "metadata": {},
   "outputs": [],
   "source": [
    "def primary_decomposition(n):\n",
    "    factors = []\n",
    "    \n",
    "    for d in range(2, int(sqrt(n))+1):\n",
    "        \n",
    "        # check if n is divisible by d \n",
    "        while n % d == 0: \n",
    "            factors.append(d)\n",
    "            n = n // d # using \"//\" represents integer division\n",
    "    \n",
    "    #Ensures that only \"n>1\" is appended to our list\n",
    "    if n > 1:\n",
    "        factors.append(n)\n",
    "    return factors"
   ]
  },
  {
   "cell_type": "code",
   "execution_count": 11,
   "id": "f20ba7e0",
   "metadata": {},
   "outputs": [
    {
     "data": {
      "text/plain": [
       "[3, 11, 17]"
      ]
     },
     "execution_count": 11,
     "metadata": {},
     "output_type": "execute_result"
    }
   ],
   "source": [
    "primary_decomposition(561) #check our primary decomposition of our 1st false prime"
   ]
  },
  {
   "cell_type": "markdown",
   "id": "29498919",
   "metadata": {},
   "source": [
    "We already know how to compute the primary decomposition for any one of the false primes we found. I decided to create a new function called `false_primes_decomposition` to find the $m$ amount of false primes we want exactly. Using very similar code to the `first_false_primes` function above, I used similar syntax to tie `first_false_primes` and `primary_decomposition` together. \n",
    "\n",
    "This code checks every number $n$ to see if it both not prime and satisifies our prime-like conditions as to not have have unwanted numbers sneak through. Then, for each false prime, the code will compute the primary decomposition function in order to gain a structural understanding each of our false primes. Using variable assignment, $p$ = `primary_decomposition` calls the function made above into this function so we can link two functions together to break down our false primes and return them as a list."
   ]
  },
  {
   "cell_type": "code",
   "execution_count": 12,
   "id": "457b7707",
   "metadata": {},
   "outputs": [],
   "source": [
    "def false_primes_decomposition(m):\n",
    "    false_primes = []\n",
    "    n = 2\n",
    "    \n",
    "    #Same code that matches our false_primes syntax\n",
    "    while len(false_primes) < m:\n",
    "        if not is_prime(n) and is_prime_like(n):\n",
    "            false_primes.append(n)\n",
    "            \n",
    "            #New aspect that calls a pre-made function into this function to compute the primary decompositon\n",
    "            p = primary_decomposition(n)\n",
    "            print('Primary decomposition of {}: {}'. format (n,p))\n",
    "        n = n + 1 #Makes sure to increment by one so the \"while\" loop doesn't run forever"
   ]
  },
  {
   "cell_type": "code",
   "execution_count": 13,
   "id": "87cfdf29",
   "metadata": {},
   "outputs": [
    {
     "name": "stdout",
     "output_type": "stream",
     "text": [
      "Primary decomposition of 561: [3, 11, 17]\n",
      "Primary decomposition of 1105: [5, 13, 17]\n",
      "Primary decomposition of 1729: [7, 13, 19]\n",
      "Primary decomposition of 2465: [5, 17, 29]\n",
      "Primary decomposition of 2821: [7, 13, 31]\n",
      "Primary decomposition of 6601: [7, 23, 41]\n",
      "Primary decomposition of 8911: [7, 19, 67]\n",
      "Primary decomposition of 10585: [5, 29, 73]\n",
      "Primary decomposition of 15841: [7, 31, 73]\n",
      "Primary decomposition of 29341: [13, 37, 61]\n",
      "Primary decomposition of 41041: [7, 11, 13, 41]\n",
      "Primary decomposition of 46657: [13, 37, 97]\n",
      "Primary decomposition of 52633: [7, 73, 103]\n",
      "Primary decomposition of 62745: [3, 5, 47, 89]\n",
      "Primary decomposition of 63973: [7, 13, 19, 37]\n",
      "Primary decomposition of 75361: [11, 13, 17, 31]\n",
      "Primary decomposition of 101101: [7, 11, 13, 101]\n",
      "Primary decomposition of 115921: [13, 37, 241]\n",
      "Primary decomposition of 126217: [7, 13, 19, 73]\n",
      "Primary decomposition of 162401: [17, 41, 233]\n"
     ]
    }
   ],
   "source": [
    "false_primes_decomposition(20) #Checks the primary decompostion of all our false primes"
   ]
  },
  {
   "cell_type": "markdown",
   "id": "95e50652",
   "metadata": {},
   "source": [
    "## Part 3: What can you say or conjecture about properties of false primes?"
   ]
  },
  {
   "cell_type": "markdown",
   "id": "4f8f5237",
   "metadata": {},
   "source": [
    "I can say a lot about the properties of false primes. For one, false primes will probably always be odd numbers. This is an educated guess based off the code. Using an increased power of m (aka m = 1000), I generated the first 1000 false primes and every single one was an odd number.\n",
    "\n",
    "Another thing I could say about the properties of false primes is that false primes are composite numbers. According to the definition given by Wikipedia, a composite number is \"a positive integer that can be formed by multiplying two positive integers\". Through our `false_primes_decomposition` function, we can see how each false prime is broken down and is indeed **NOT** a prime number. Composite numbers are much more prevalent than prime numbers but these \"false primes\" appear to be few a far between. Only a select few numbers satisfy all our conditions discussed in the introduction. \n",
    "\n",
    "Also, there must be an infinite amount of false primes. Since false primes are odd composite numbers there must be infinitely many of them. False primes share properties with primes. Since, through the code and the criteria it was established that our false primes must be $ n \\ge 2 $ and all false primes are odd they could easily be mistaken for primes. They are similar to primes as they must be odd but they arw composite, although that was harder to find out from simply looking at these false primes. \n",
    "\n",
    "To conclude, through this report I have discovered that false primes are numbers $n\\ge2$ such that: \n",
    "\n",
    "- $n$ is not a prime\n",
    "- the formula $a^n \\equiv a (mod\\: n)$ holds for all $0 \\le a < n$ \n",
    "\n",
    "and they have similar properties to all prime numbers $ > 2$. False primes are always odd, always composite numbers, and there is an infinite amount of them. \n"
   ]
  },
  {
   "cell_type": "markdown",
   "id": "5f1ef645",
   "metadata": {},
   "source": [
    "### Sources"
   ]
  },
  {
   "cell_type": "markdown",
   "id": "d4778f81",
   "metadata": {},
   "source": [
    "$$ \n",
    "https://docs.python.org/3/tutorial/modules.html\n",
    "https://www.w3schools.com/python/ref_func_len.asp\n",
    "https://www.w3schools.com/python/python_while_loops.asp\n",
    "https://www.w3schools.com/python/python_lists.asp\n",
    "https://www.cuemath.com/numbers/prime-factorization/\n",
    "https://revisionworld.com/gcse-revision/maths/number-and-algebra/number/numbers/prime-factor-decomposition#:~:text=Prime%20factor%20decomposition%20of%20a,the%20first%20possible%20prime%20number.\n",
    "https://en.wikipedia.org/wiki/Composite_number\n",
    "$$"
   ]
  },
  {
   "cell_type": "code",
   "execution_count": null,
   "id": "07d6eacd",
   "metadata": {},
   "outputs": [],
   "source": []
  }
 ],
 "metadata": {
  "kernelspec": {
   "display_name": "Python 3 (ipykernel)",
   "language": "python",
   "name": "python3"
  },
  "language_info": {
   "codemirror_mode": {
    "name": "ipython",
    "version": 3
   },
   "file_extension": ".py",
   "mimetype": "text/x-python",
   "name": "python",
   "nbconvert_exporter": "python",
   "pygments_lexer": "ipython3",
   "version": "3.11.5"
  }
 },
 "nbformat": 4,
 "nbformat_minor": 5
}
