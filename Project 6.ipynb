{
 "cells": [
  {
   "cell_type": "markdown",
   "id": "28b5f216",
   "metadata": {},
   "source": [
    "# Code Breakers"
   ]
  },
  {
   "cell_type": "code",
   "execution_count": 1,
   "id": "ab577ecf",
   "metadata": {},
   "outputs": [],
   "source": [
    "import re # This line imports the 're' module, which is the regular expressions package, \n",
    "          # a powerful tool for processing text data."
   ]
  },
  {
   "cell_type": "code",
   "execution_count": 2,
   "id": "328c4c8f",
   "metadata": {},
   "outputs": [],
   "source": [
    "# Create a function to convert between strings and lists of ASCII codes\n",
    "def str_to_ascii(s):\n",
    "    # Initialize empty list to hold our ASCII codes\n",
    "    ascii_list = []\n",
    "    \n",
    "    # Iterate through each character 'c' in the input string 's'\n",
    "    for c in s:\n",
    "        ascii_list.append(ord(c)) #The ASCII code of a character can be obtained using the ord() function\n",
    "    return ascii_list\n",
    "\n",
    "    #List comprehension: For each characterin the string, get ord(c), and put it in a list\n",
    "    return [ord(c) for c in s] "
   ]
  },
  {
   "cell_type": "code",
   "execution_count": 3,
   "id": "39e463a0",
   "metadata": {},
   "outputs": [],
   "source": [
    "# Create a function to convert between strings and lists of ASCII codes\n",
    "def ascii_to_str(ascii_list):\n",
    "    c_list = []\n",
    "    \n",
    "    # Iterate through each number 'n' in our ascii_list\n",
    "    for n in ascii_list:\n",
    "        c_list.append(chr(n)) # The function chr() converts ASCII codes into characters\n",
    "    s = ''.join(c_list) # Once we have a list of characters, we join them together into one string\n",
    "    return s\n",
    "    \n",
    "    #List comprehension: For each number, change it to a character using chr(n), and joins them all together\n",
    "    return ''.join([chr(n) for n in ascii_list])"
   ]
  },
  {
   "cell_type": "code",
   "execution_count": 4,
   "id": "88995f69",
   "metadata": {},
   "outputs": [],
   "source": [
    "with open('dictionary.txt') as f:  # This opens dictionary.txt and names the contents `f`\n",
    "    s = f.read()                   # This reads the contents of the file into a string"
   ]
  },
  {
   "cell_type": "code",
   "execution_count": 5,
   "id": "aa05325f",
   "metadata": {},
   "outputs": [],
   "source": [
    "dictionary = s.split()  # This splits the string on space/new lines to get a list of words in the dictionary"
   ]
  },
  {
   "cell_type": "code",
   "execution_count": 6,
   "id": "0b7c5620",
   "metadata": {},
   "outputs": [],
   "source": [
    "with open('gsrich.txt') as f:  # This opens my given .txt file and names the contents `f`    \n",
    "    s = f.read()               # This reads the contents of the file into the string"
   ]
  },
  {
   "cell_type": "code",
   "execution_count": 7,
   "id": "550bded4",
   "metadata": {},
   "outputs": [
    {
     "data": {
      "text/plain": [
       "['1', '64', '86', '89', '83', '18', '107', '81', '83', '20']"
      ]
     },
     "execution_count": 7,
     "metadata": {},
     "output_type": "execute_result"
    }
   ],
   "source": [
    "s.split()[:10]     # Again, we can split the string on spaces to produce a list of \"integers\""
   ]
  },
  {
   "cell_type": "code",
   "execution_count": 8,
   "id": "6e243c10",
   "metadata": {},
   "outputs": [],
   "source": [
    "# We need to convert each of these \"integer\" strings into actual integers\n",
    "\n",
    "encrypted_ascii = [] # Our empty list to hold the encrypted ASCII codes\n",
    "\n",
    "# Iterate through a string of numbers, split them, and store them in our encrypted list as an int\n",
    "for str_n in s.split():\n",
    "    encrypted_ascii.append(int(str_n))"
   ]
  },
  {
   "cell_type": "code",
   "execution_count": 9,
   "id": "b13496de",
   "metadata": {},
   "outputs": [],
   "source": [
    "# Helpful to find our key: Checks whether the decrypted message only contains allowed characters \n",
    "def is_valid_decryption(decrypted_ascii):\n",
    "    \n",
    "    # Call our function from above, converts the list of ASCII codes into a string of characters\n",
    "    decrypted_message = ascii_to_str(decrypted_ascii)\n",
    "    \n",
    "    # Regular expression pattern that defines which characters are allowed in our decrypted message\n",
    "    # `re.findall`: this is used to find substrings that match our given pattern\n",
    "    pattern = r'[a-zA-Z0-9 ,.!?;:\\'\"()\\n\\t-]'\n",
    "    matches = re.findall(pattern, decrypted_message)\n",
    "    \n",
    "    return len(matches) == len(decrypted_message) # Checks if every character in the message is allowed"
   ]
  },
  {
   "cell_type": "code",
   "execution_count": 10,
   "id": "982f04f0",
   "metadata": {},
   "outputs": [],
   "source": [
    "# Checks each possible key from our dictionary.txt file to decrypt our encrypted file\n",
    "def find_key(encrypted_ascii, dictionary):\n",
    "    \n",
    "    # Iterate through every possible key\n",
    "    for key in dictionary:\n",
    "        key_ascii = str_to_ascii(key)  # Calls our function from above, converts the key to ASCII code\n",
    "        padded_key_ascii = []\n",
    "        \n",
    "        # Our message has more characters than our key, so we need to duplicate our key enough times \n",
    "        # to match the length of the message using a `while` loop\n",
    "        while len(padded_key_ascii) < len(encrypted_ascii):\n",
    "            \n",
    "            # Create our padded key to match or exceed the length of encrypted message \n",
    "            for n in key_ascii:\n",
    "                padded_key_ascii.append(n)\n",
    "                if len(padded_key_ascii) == len(encrypted_ascii):\n",
    "                    break  # When the lengths are the same, the code stops repeating (as to not go on forever)\n",
    "        \n",
    "        decrypted_ascii = []\n",
    "        \n",
    "        # We've padded out our key to be sufficiently long, now we go number by number to encrypt\n",
    "        # for each number `n` we compute the reminder from the division of `encrypted_n - padded_key_n` by 128. \n",
    "        for padded_key_n, encrypted_n in zip(padded_key_ascii, encrypted_ascii):\n",
    "            decrypted_ascii.append((encrypted_n - padded_key_n) % 128)\n",
    "        \n",
    "        decrypted_message = ascii_to_str(decrypted_ascii) # This turns decrypted ASCII back into a string\n",
    "        \n",
    "        # Use above function: If our message is valid (with key) based on our parameter,then we found our key\n",
    "        if is_valid_decryption(decrypted_ascii):\n",
    "            \n",
    "            # If it meets our criteria, our key and message should be printed properly\n",
    "            print(f\"Key: {key}\")  \n",
    "            print(f\"Decrypted message: {decrypted_message}\")"
   ]
  },
  {
   "cell_type": "code",
   "execution_count": 11,
   "id": "3ee6546c",
   "metadata": {},
   "outputs": [
    {
     "name": "stdout",
     "output_type": "stream",
     "text": [
      "Key: winter\n",
      "Decrypted message: \n",
      "When the ponds were firmly frozen, they afforded not only new and\n",
      "shorter routes to many points, but new views from their surfaces of the\n",
      "familiar landscape around them. When I crossed Flint's Pond, after it\n",
      "was covered with snow, though I had often paddled about and skated over\n",
      "it, it was so unexpectedly wide and so strange that I could think of\n",
      "nothing but Baffin's Bay. The Lincoln hills rose up around me at the\n",
      "extremity of a snowy plain, in which I did not remember to have stood\n",
      "before; and the fishermen, at an indeterminable distance over the ice,\n",
      "moving slowly about with their wolfish dogs, passed for sealers, or\n",
      "Esquimaux, or in misty weather loomed like fabulous creatures, and I did\n",
      "not know whether they were giants or pygmies. I took this course when\n",
      "I went to lecture in Lincoln in the evening, traveling in no road and\n",
      "passing no house between my own hut and the lecture room. In Goose Pond,\n",
      "which lay in my way, a colony of muskrats dwelt, and raised their cabins\n",
      "high above the ice, though none could be seen abroad when I crossed it.\n",
      "Walden, being like the rest usually bare of snow, or with only shallow\n",
      "and interrupted drifts on it, was my yard where I could walk freely when\n",
      "the snow was nearly two feet deep on a level elsewhere and the villagers\n",
      "were confined to their streets. There, far from the village street, and\n",
      "except at very long intervals, from the jingle of sleigh-bells, I slid\n",
      "and skated, as in a vast moose-yard well trodden, overhung by oak woods\n",
      "and solemn pines bent down with snow or bristling with icicles.\n",
      "\n",
      "\n"
     ]
    }
   ],
   "source": [
    "find_key(encrypted_ascii, dictionary) # Outputs our key and text that properly decrypts our ASCII code"
   ]
  },
  {
   "cell_type": "code",
   "execution_count": null,
   "id": "430e1d27",
   "metadata": {},
   "outputs": [],
   "source": []
  }
 ],
 "metadata": {
  "kernelspec": {
   "display_name": "Python 3 (ipykernel)",
   "language": "python",
   "name": "python3"
  },
  "language_info": {
   "codemirror_mode": {
    "name": "ipython",
    "version": 3
   },
   "file_extension": ".py",
   "mimetype": "text/x-python",
   "name": "python",
   "nbconvert_exporter": "python",
   "pygments_lexer": "ipython3",
   "version": "3.11.5"
  }
 },
 "nbformat": 4,
 "nbformat_minor": 5
}
